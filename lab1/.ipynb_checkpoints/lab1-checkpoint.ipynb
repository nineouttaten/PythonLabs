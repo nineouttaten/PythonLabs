{
 "cells": [
  {
   "cell_type": "markdown",
   "metadata": {},
   "source": [
    "# Лабораторная работа 1 \n",
    "## Выполнил студент группы БВТ1905 Бернадский Илья Дмитриевич\n",
    "### Задание 1\n",
    "#### Написать привет мир"
   ]
  },
  {
   "cell_type": "code",
   "execution_count": 1,
   "metadata": {},
   "outputs": [],
   "source": [
    "print(\"Hello World!\")"
   ]
  },
  {
   "cell_type": "markdown",
   "metadata": {},
   "source": [
    "### Задание 2\n",
    "#### Написать генератор случайных матриц(многомерных), который принимает\n",
    "#### опциональные параметры m, n, min_limit, max_limit, где m и n указывают размер\n",
    "#### матрицы, а min_lim и max_lim - минимальное и максимальное значение для\n",
    "#### генерируемого числа . По умолчанию при отсутствии параметров принимать следующие\n",
    "#### значения:\n",
    "#### m = 50\n",
    "#### n = 50\n",
    "#### min_limit = -250\n",
    "#### max_limit = 1000 + (номер своего варианта)"
   ]
  },
  {
   "cell_type": "code",
   "execution_count": 2,
   "metadata": {
    "scrolled": true
   },
   "outputs": [
    {
     "name": "stdout",
     "output_type": "stream",
     "text": [
      "-221.0  416.0  716.0  344.0  296.0   73.0  611.0  477.0  447.0  -92.0\n",
      "-104.0  135.0  377.0  635.0 -223.0  723.0  219.0  848.0  934.0  978.0\n",
      " 544.0  -52.0  783.0  914.0  274.0  283.0  586.0  630.0  534.0  940.0\n",
      "  15.0  360.0   -8.0  880.0  -34.0   -9.0  263.0  724.0  513.0  722.0\n",
      " 188.0 -107.0 -167.0  -69.0  839.0  802.0  656.0  695.0  155.0  788.0\n",
      " -24.0  728.0  -47.0   50.0  506.0  109.0  678.0  326.0   -6.0  566.0\n",
      " 338.0  134.0  569.0  -35.0  134.0    0.0  241.0  424.0  691.0   52.0\n",
      " 401.0  948.0  282.0   26.0  589.0  900.0  680.0  767.0  585.0  737.0\n",
      " -69.0  936.0  817.0  575.0  992.0  487.0  208.0  432.0  820.0    6.0\n",
      " 161.0  292.0 -189.0  291.0  284.0  421.0  412.0  657.0   58.0  261.0\n",
      " -54.0  839.0   26.0 -153.0  561.0  561.0 -244.0 -114.0  507.0  561.0\n",
      " 304.0  780.0  585.0    3.0  450.0  203.0 -233.0  -73.0  991.0  804.0\n",
      " 125.0  236.0  551.0  790.0  160.0  358.0 -100.0 -132.0  639.0  -45.0\n"
     ]
    }
   ],
   "source": [
    "import numpy as np\n",
    "import time\n",
    "from random import randint\n",
    "def output(matrix):\n",
    "    max_len = max([len(str(e)) for r in matrix for e in r])\n",
    "    for row in matrix:\n",
    "        print(*list(map('{{:>{length}}}'.format(length=max_len).format, row)))\n",
    "m = 13\n",
    "n = 10\n",
    "min_limit = -250\n",
    "max_limit = 1003\n",
    "matrix = np.empty((m, n))\n",
    "for i in range(m):\n",
    "    for j in range(n):\n",
    "        matrix[i][j] = randint(min_limit, max_limit)\n",
    "output(matrix)"
   ]
  },
  {
   "cell_type": "code",
   "execution_count": 3,
   "metadata": {},
   "outputs": [],
   "source": [
    "def sort_selection(matrix_copy):\n",
    "    for k in range(m):   \n",
    "        for i in range(n):\n",
    "            min = matrix_copy[k,i]\n",
    "            min_k = i\n",
    "            for j in range(i + 1, n):\n",
    "                if matrix_copy[k,j] < min:\n",
    "                    min = matrix_copy[k,j]\n",
    "                    min_k = j\n",
    "            matrix_copy[k,min_k] = matrix_copy[k,i]\n",
    "            matrix_copy[k,i] = min\n",
    "    for k in range(n - 1, -1, -1):   \n",
    "        for i in range(m):\n",
    "            min = matrix_copy[i,k]\n",
    "            min_k = i\n",
    "            for j in range(i + 1, m):\n",
    "                if matrix_copy[j, k] < min:\n",
    "                    min = matrix_copy[j, k]\n",
    "                    min_k = j\n",
    "            matrix_copy[min_k, k] = matrix_copy[i, k]\n",
    "            matrix_copy[i, k] = min\n",
    "    output(matrix_copy)"
   ]
  },
  {
   "cell_type": "code",
   "execution_count": 4,
   "metadata": {},
   "outputs": [
    {
     "name": "stdout",
     "output_type": "stream",
     "text": [
      "-244.0 -153.0 -114.0  -54.0   26.0  236.0  292.0  412.0  421.0  657.0\n",
      "-233.0 -107.0  -69.0   15.0  109.0  241.0  338.0  424.0  561.0  691.0\n",
      "-223.0 -104.0  -45.0   50.0  134.0  291.0  358.0  477.0  569.0  716.0\n",
      "-221.0 -100.0   -8.0  125.0  160.0  326.0  447.0  551.0  611.0  728.0\n",
      "-189.0  -92.0   -6.0  134.0  188.0  360.0  506.0  561.0  639.0  790.0\n",
      "-167.0  -73.0    3.0  155.0  263.0  416.0  513.0  566.0  678.0  839.0\n",
      "-132.0  -24.0   52.0  203.0  284.0  450.0  561.0  722.0  724.0  839.0\n",
      " -69.0   -9.0   73.0  219.0  304.0  507.0  585.0  767.0  802.0  880.0\n",
      " -52.0    0.0  135.0  261.0  344.0  575.0  630.0  780.0  804.0  940.0\n",
      " -47.0    6.0  161.0  296.0  377.0  586.0  695.0  783.0  900.0  948.0\n",
      " -35.0   58.0  208.0  432.0  487.0  635.0  723.0  788.0  914.0  978.0\n",
      " -34.0  274.0  283.0  534.0  544.0  656.0  737.0  820.0  934.0  991.0\n",
      "  26.0  282.0  401.0  585.0  589.0  680.0  817.0  848.0  936.0  992.0\n",
      "0.008006572723388672\n"
     ]
    }
   ],
   "source": [
    "start_time = time.time()\n",
    "matrix_copy = np.array(matrix)\n",
    "sort_selection(matrix_copy)\n",
    "print(time.time() - start_time)"
   ]
  },
  {
   "cell_type": "code",
   "execution_count": 5,
   "metadata": {},
   "outputs": [],
   "source": [
    "def sort_insert(matrix_copy):\n",
    "    for k in range(m):\n",
    "        for i in range(1,n): \n",
    "            x = matrix_copy[k,i]\n",
    "            j = i\n",
    "            while j > 0 and matrix_copy[k,j-1] > x:\n",
    "                matrix_copy[k,j] = matrix_copy[k,j-1]\n",
    "                j = j - 1\n",
    "            matrix_copy[k,j] = x\n",
    "    for k in range(n - 1, -1, -1):\n",
    "        for i in range(1,m): \n",
    "            x = matrix_copy[i,k]\n",
    "            j = i\n",
    "            while j > 0 and matrix_copy[j-1,k] > x:\n",
    "                matrix_copy[j,k] = matrix_copy[j-1,k]\n",
    "                j = j - 1\n",
    "            matrix_copy[j,k] = x\n",
    "    output(matrix_copy)"
   ]
  },
  {
   "cell_type": "code",
   "execution_count": 6,
   "metadata": {
    "scrolled": true
   },
   "outputs": [
    {
     "name": "stdout",
     "output_type": "stream",
     "text": [
      "-244.0 -153.0 -114.0  -54.0   26.0  236.0  292.0  412.0  421.0  657.0\n",
      "-233.0 -107.0  -69.0   15.0  109.0  241.0  338.0  424.0  561.0  691.0\n",
      "-223.0 -104.0  -45.0   50.0  134.0  291.0  358.0  477.0  569.0  716.0\n",
      "-221.0 -100.0   -8.0  125.0  160.0  326.0  447.0  551.0  611.0  728.0\n",
      "-189.0  -92.0   -6.0  134.0  188.0  360.0  506.0  561.0  639.0  790.0\n",
      "-167.0  -73.0    3.0  155.0  263.0  416.0  513.0  566.0  678.0  839.0\n",
      "-132.0  -24.0   52.0  203.0  284.0  450.0  561.0  722.0  724.0  839.0\n",
      " -69.0   -9.0   73.0  219.0  304.0  507.0  585.0  767.0  802.0  880.0\n",
      " -52.0    0.0  135.0  261.0  344.0  575.0  630.0  780.0  804.0  940.0\n",
      " -47.0    6.0  161.0  296.0  377.0  586.0  695.0  783.0  900.0  948.0\n",
      " -35.0   58.0  208.0  432.0  487.0  635.0  723.0  788.0  914.0  978.0\n",
      " -34.0  274.0  283.0  534.0  544.0  656.0  737.0  820.0  934.0  991.0\n",
      "  26.0  282.0  401.0  585.0  589.0  680.0  817.0  848.0  936.0  992.0\n",
      "0.007002353668212891\n"
     ]
    }
   ],
   "source": [
    "start_time = time.time()\n",
    "matrix_copy = np.array(matrix)\n",
    "sort_insert(matrix_copy)\n",
    "print(time.time() - start_time)"
   ]
  },
  {
   "cell_type": "code",
   "execution_count": 7,
   "metadata": {},
   "outputs": [],
   "source": [
    "def sort_bubble(matrix_copy):\n",
    "    bub = 0\n",
    "    for k in range(m):\n",
    "        for j in range(n):\n",
    "            for i in range(n - 1):\n",
    "                if matrix_copy[k, i] > matrix_copy[k, i + 1]:\n",
    "                    bub = matrix_copy[k, i]\n",
    "                    matrix_copy[k, i] = matrix_copy[k, i + 1]\n",
    "                    matrix_copy[k, i + 1] = bub\n",
    "    for k in range(n - 1, -1, -1):\n",
    "        for j in range(m):\n",
    "            for i in range(m - 1):\n",
    "                if matrix_copy[i, k] > matrix_copy[i + 1, k]:\n",
    "                    bub = matrix_copy[i, k]\n",
    "                    matrix_copy[i, k] = matrix_copy[i + 1, k]\n",
    "                    matrix_copy[i + 1, k] = bub\n",
    "    output(matrix_copy)"
   ]
  },
  {
   "cell_type": "code",
   "execution_count": 8,
   "metadata": {
    "scrolled": true
   },
   "outputs": [
    {
     "name": "stdout",
     "output_type": "stream",
     "text": [
      "-244.0 -153.0 -114.0  -54.0   26.0  236.0  292.0  412.0  421.0  657.0\n",
      "-233.0 -107.0  -69.0   15.0  109.0  241.0  338.0  424.0  561.0  691.0\n",
      "-223.0 -104.0  -45.0   50.0  134.0  291.0  358.0  477.0  569.0  716.0\n",
      "-221.0 -100.0   -8.0  125.0  160.0  326.0  447.0  551.0  611.0  728.0\n",
      "-189.0  -92.0   -6.0  134.0  188.0  360.0  506.0  561.0  639.0  790.0\n",
      "-167.0  -73.0    3.0  155.0  263.0  416.0  513.0  566.0  678.0  839.0\n",
      "-132.0  -24.0   52.0  203.0  284.0  450.0  561.0  722.0  724.0  839.0\n",
      " -69.0   -9.0   73.0  219.0  304.0  507.0  585.0  767.0  802.0  880.0\n",
      " -52.0    0.0  135.0  261.0  344.0  575.0  630.0  780.0  804.0  940.0\n",
      " -47.0    6.0  161.0  296.0  377.0  586.0  695.0  783.0  900.0  948.0\n",
      " -35.0   58.0  208.0  432.0  487.0  635.0  723.0  788.0  914.0  978.0\n",
      " -34.0  274.0  283.0  534.0  544.0  656.0  737.0  820.0  934.0  991.0\n",
      "  26.0  282.0  401.0  585.0  589.0  680.0  817.0  848.0  936.0  992.0\n",
      "0.004002094268798828\n"
     ]
    }
   ],
   "source": [
    "start_time = time.time()\n",
    "matrix_copy = np.array(matrix)\n",
    "sort_bubble(matrix_copy)\n",
    "print(time.time() - start_time)"
   ]
  },
  {
   "cell_type": "code",
   "execution_count": 9,
   "metadata": {},
   "outputs": [],
   "source": [
    "def heap(matrix,n,i,k):\n",
    "    largest = i\n",
    "    l = 2 * i + 1\n",
    "    r = 2 * i + 2\n",
    "    if l < n and matrix[k, i] < matrix[k, l]:\n",
    "        largest = l\n",
    "    if r < n and matrix[k, largest] < matrix[k, r]:\n",
    "        largest = r\n",
    "    if largest != i:\n",
    "        matrix[k,i],matrix[k,largest] = matrix[k,largest],matrix[k,i]\n",
    "        heap(matrix, n, largest,k)\n",
    "def sort_pyramid(matrix,k):\n",
    "    for i in range(n, -1, -1):\n",
    "        heap(matrix,n,i,k)\n",
    "    for i in range(n-1,0,-1):\n",
    "        matrix[k, i], matrix[k, 0] = matrix[k, 0], matrix[k, i]\n",
    "        heap(matrix,i,0,k)\n",
    "def heap_2(matrix,n,i,k):\n",
    "    largest = i\n",
    "    l = 2 * i + 1\n",
    "    r = 2 * i + 2\n",
    "    if l < n and matrix[i,k] < matrix[l,k]:\n",
    "        largest = l\n",
    "    if r < n and matrix[largest,k] < matrix[r,k]:\n",
    "        largest = r\n",
    "    if largest != i:\n",
    "        matrix[i,k],matrix[largest,k] = matrix[largest,k],matrix[i,k]\n",
    "        heap_2(matrix, n, largest,k)\n",
    "def sort_pyramid_2(matrix,k):\n",
    "    n = len(matrix)\n",
    "    for i in range(n-1,-1,-1):\n",
    "        heap_2(matrix,n,i,k)\n",
    "    for i in range(n-1,-1,-1):\n",
    "        matrix[i,k], matrix[0,k] = matrix[0,k], matrix[i,k]\n",
    "        heap_2(matrix,i,0,k)\n",
    "def sort_pyramidal(matrix):\n",
    "    for k in range(m):\n",
    "        sort_pyramid(matrix,k)\n",
    "    for k in range(n-1,-1,-1):\n",
    "        sort_pyramid_2(matrix,k)\n",
    "    output(matrix)"
   ]
  },
  {
   "cell_type": "code",
   "execution_count": 10,
   "metadata": {},
   "outputs": [
    {
     "name": "stdout",
     "output_type": "stream",
     "text": [
      "-244.0 -153.0 -114.0  -54.0   26.0  236.0  292.0  412.0  421.0  657.0\n",
      "-233.0 -107.0  -69.0   15.0  109.0  241.0  338.0  424.0  561.0  691.0\n",
      "-223.0 -104.0  -45.0   50.0  134.0  291.0  358.0  477.0  569.0  716.0\n",
      "-221.0 -100.0   -8.0  125.0  160.0  326.0  447.0  551.0  611.0  728.0\n",
      "-189.0  -92.0   -6.0  134.0  188.0  360.0  506.0  561.0  639.0  790.0\n",
      "-167.0  -73.0    3.0  155.0  263.0  416.0  513.0  566.0  678.0  839.0\n",
      "-132.0  -24.0   52.0  203.0  284.0  450.0  561.0  722.0  724.0  839.0\n",
      " -69.0   -9.0   73.0  219.0  304.0  507.0  585.0  767.0  802.0  880.0\n",
      " -52.0    0.0  135.0  261.0  344.0  575.0  630.0  780.0  804.0  940.0\n",
      " -47.0    6.0  161.0  296.0  377.0  586.0  695.0  783.0  900.0  948.0\n",
      " -35.0   58.0  208.0  432.0  487.0  635.0  723.0  788.0  914.0  978.0\n",
      " -34.0  274.0  283.0  534.0  544.0  656.0  737.0  820.0  934.0  991.0\n",
      "  26.0  282.0  401.0  585.0  589.0  680.0  817.0  848.0  936.0  992.0\n",
      "0.00900721549987793\n"
     ]
    }
   ],
   "source": [
    "start_time = time.time()\n",
    "matrix_copy = np.array(matrix)\n",
    "sort_pyramidal(matrix_copy)\n",
    "print(time.time() - start_time)"
   ]
  },
  {
   "cell_type": "code",
   "execution_count": 11,
   "metadata": {},
   "outputs": [],
   "source": [
    "import random\n",
    "def quicksort(nums):\n",
    "    if len(nums) <= 1:\n",
    "        return nums\n",
    "    else:\n",
    "        q = random.choice(nums)\n",
    "        s_nums = []\n",
    "        m_nums = []\n",
    "        e_nums = []\n",
    "        for n in nums:\n",
    "            if n < q:\n",
    "                s_nums.append(n)\n",
    "            elif n > q:\n",
    "                  m_nums.append(n)\n",
    "            else:\n",
    "                e_nums.append(n)\n",
    "        return quicksort(s_nums) + e_nums + quicksort(m_nums)\n",
    "def sort_quick(matrix):\n",
    "    a = []\n",
    "    for k in range(m):\n",
    "        for i in range(n):   \n",
    "            a.append(matrix[k,i])\n",
    "        a = quicksort(a)\n",
    "        for i in range(n):\n",
    "            matrix[k,i] = a[i]\n",
    "        a = []\n",
    "    for k in range(n - 1, -1, -1):\n",
    "        for i in range(m):   \n",
    "            a.append(matrix[i,k])\n",
    "        a = quicksort(a)\n",
    "        for i in range(m):\n",
    "            matrix[i,k] = a[i]\n",
    "        a = []\n",
    "    output(matrix)"
   ]
  },
  {
   "cell_type": "code",
   "execution_count": 12,
   "metadata": {},
   "outputs": [
    {
     "name": "stdout",
     "output_type": "stream",
     "text": [
      "-244.0 -153.0 -114.0  -54.0   26.0  236.0  292.0  412.0  421.0  657.0\n",
      "-233.0 -107.0  -69.0   15.0  109.0  241.0  338.0  424.0  561.0  691.0\n",
      "-223.0 -104.0  -45.0   50.0  134.0  291.0  358.0  477.0  569.0  716.0\n",
      "-221.0 -100.0   -8.0  125.0  160.0  326.0  447.0  551.0  611.0  728.0\n",
      "-189.0  -92.0   -6.0  134.0  188.0  360.0  506.0  561.0  639.0  790.0\n",
      "-167.0  -73.0    3.0  155.0  263.0  416.0  513.0  566.0  678.0  839.0\n",
      "-132.0  -24.0   52.0  203.0  284.0  450.0  561.0  722.0  724.0  839.0\n",
      " -69.0   -9.0   73.0  219.0  304.0  507.0  585.0  767.0  802.0  880.0\n",
      " -52.0    0.0  135.0  261.0  344.0  575.0  630.0  780.0  804.0  940.0\n",
      " -47.0    6.0  161.0  296.0  377.0  586.0  695.0  783.0  900.0  948.0\n",
      " -35.0   58.0  208.0  432.0  487.0  635.0  723.0  788.0  914.0  978.0\n",
      " -34.0  274.0  283.0  534.0  544.0  656.0  737.0  820.0  934.0  991.0\n",
      "  26.0  282.0  401.0  585.0  589.0  680.0  817.0  848.0  936.0  992.0\n",
      "0.009006977081298828\n"
     ]
    }
   ],
   "source": [
    "start_time = time.time()\n",
    "matrix_copy = np.array(matrix)\n",
    "sort_quick(matrix_copy)\n",
    "print(time.time() - start_time)"
   ]
  },
  {
   "cell_type": "code",
   "execution_count": 13,
   "metadata": {},
   "outputs": [],
   "source": [
    "def sort_shell(matrix):\n",
    "    for k in range(m):\n",
    "        for i in range(n):\n",
    "            j = i - 1\n",
    "            key = matrix[k,i]\n",
    "            while matrix[k,j] > key and j >= 0:\n",
    "                matrix[k,j + 1] = matrix[k,j]\n",
    "                j -= 1\n",
    "            matrix[k,j + 1] = key\n",
    "    output(matrix)"
   ]
  },
  {
   "cell_type": "code",
   "execution_count": 14,
   "metadata": {},
   "outputs": [
    {
     "name": "stdout",
     "output_type": "stream",
     "text": [
      "-221.0  -92.0   73.0  296.0  344.0  416.0  447.0  477.0  611.0  716.0\n",
      "-223.0 -104.0  135.0  219.0  377.0  635.0  723.0  848.0  934.0  978.0\n",
      " -52.0  274.0  283.0  534.0  544.0  586.0  630.0  783.0  914.0  940.0\n",
      " -34.0   -9.0   -8.0   15.0  263.0  360.0  513.0  722.0  724.0  880.0\n",
      "-167.0 -107.0  -69.0  155.0  188.0  656.0  695.0  788.0  802.0  839.0\n",
      " -47.0  -24.0   -6.0   50.0  109.0  326.0  506.0  566.0  678.0  728.0\n",
      " -35.0    0.0   52.0  134.0  134.0  241.0  338.0  424.0  569.0  691.0\n",
      "  26.0  282.0  401.0  585.0  589.0  680.0  737.0  767.0  900.0  948.0\n",
      " -69.0    6.0  208.0  432.0  487.0  575.0  817.0  820.0  936.0  992.0\n",
      "-189.0   58.0  161.0  261.0  284.0  291.0  292.0  412.0  421.0  657.0\n",
      "-244.0 -153.0 -114.0  -54.0   26.0  507.0  561.0  561.0  561.0  839.0\n",
      "-233.0  -73.0    3.0  203.0  304.0  450.0  585.0  780.0  804.0  991.0\n",
      "-132.0 -100.0  -45.0  125.0  160.0  236.0  358.0  551.0  639.0  790.0\n",
      "0.00800466537475586\n"
     ]
    }
   ],
   "source": [
    "start_time = time.time()\n",
    "matrix_copy = np.array(matrix)\n",
    "sort_shell(matrix_copy)\n",
    "print(time.time() - start_time)"
   ]
  },
  {
   "cell_type": "code",
   "execution_count": 21,
   "metadata": {},
   "outputs": [],
   "source": [
    "def heapify(heap_array, n, i, k):\n",
    "    m = i\n",
    "    left = 2 * i\n",
    "    right = 2 * i + 1\n",
    "    if left < n and heap_array[k,m] < heap_array[k,left]:\n",
    "        m = left\n",
    "    if right < n and heap_array[k,m] < heap_array[k,right]:\n",
    "        m = right\n",
    "    if m != i:\n",
    "        heap_array[k,i], heap_array[k,m] = heap_array[k,m], heap_array[k,i]\n",
    "        heapify(heap_array, n, m, k)\n",
    "    return heap_array\n",
    "\n",
    "def sort_tournament(matrix): \n",
    "    for k in range(m):\n",
    "        for i in range(n // 2, -1, -1):\n",
    "            heapify(matrix, n, i, k)\n",
    "        for i in range(n - 1, -1, -1):\n",
    "            if matrix[k,0] > matrix[k,i]:\n",
    "                matrix[k,0], matrix[k,i] = matrix[k,i], matrix[k,0]\n",
    "                heapify(matrix, i, 0, k)\n",
    "    output(matrix)"
   ]
  },
  {
   "cell_type": "code",
   "execution_count": 22,
   "metadata": {
    "scrolled": true
   },
   "outputs": [
    {
     "name": "stdout",
     "output_type": "stream",
     "text": [
      "-221.0  -92.0   73.0  296.0  344.0  416.0  447.0  477.0  611.0  716.0\n",
      "-223.0 -104.0  135.0  219.0  377.0  635.0  723.0  848.0  934.0  978.0\n",
      " -52.0  274.0  283.0  534.0  544.0  586.0  630.0  783.0  914.0  940.0\n",
      " -34.0   -9.0   -8.0   15.0  263.0  360.0  513.0  722.0  724.0  880.0\n",
      "-167.0 -107.0  -69.0  155.0  188.0  656.0  695.0  788.0  802.0  839.0\n",
      " -47.0  -24.0   -6.0   50.0  109.0  326.0  506.0  566.0  678.0  728.0\n",
      " -35.0    0.0   52.0  134.0  134.0  241.0  338.0  424.0  569.0  691.0\n",
      "  26.0  282.0  401.0  585.0  589.0  680.0  737.0  767.0  900.0  948.0\n",
      " -69.0    6.0  208.0  432.0  487.0  575.0  817.0  820.0  936.0  992.0\n",
      "-189.0   58.0  161.0  261.0  284.0  291.0  292.0  412.0  421.0  657.0\n",
      "-244.0 -153.0 -114.0  -54.0   26.0  507.0  561.0  561.0  561.0  839.0\n",
      "-233.0  -73.0    3.0  203.0  304.0  450.0  585.0  780.0  804.0  991.0\n",
      "-132.0 -100.0  -45.0  125.0  160.0  236.0  358.0  551.0  639.0  790.0\n",
      "0.004004001617431641\n"
     ]
    }
   ],
   "source": [
    "start_time = time.time()\n",
    "matrix_copy = np.array(matrix)\n",
    "sort_tournament(matrix_copy)\n",
    "print(time.time() - start_time)"
   ]
  },
  {
   "cell_type": "markdown",
   "metadata": {},
   "source": [
    "### Вывод \n",
    "#### Я изучил разные алгоритмы сортировок данных, сравнил их скорости выполнения при разных случаях, и теперь понимаю когда стоит использовать один метод сортировки, а когда другой."
   ]
  },
  {
   "cell_type": "code",
   "execution_count": null,
   "metadata": {},
   "outputs": [],
   "source": []
  }
 ],
 "metadata": {
  "kernelspec": {
   "display_name": "Python 3",
   "language": "python",
   "name": "python3"
  },
  "language_info": {
   "codemirror_mode": {
    "name": "ipython",
    "version": 3
   },
   "file_extension": ".py",
   "mimetype": "text/x-python",
   "name": "python",
   "nbconvert_exporter": "python",
   "pygments_lexer": "ipython3",
   "version": "3.8.5"
  }
 },
 "nbformat": 4,
 "nbformat_minor": 4
}
