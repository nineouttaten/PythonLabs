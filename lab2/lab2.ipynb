{
 "cells": [
  {
   "cell_type": "markdown",
   "metadata": {},
   "source": [
    "# Лабораторная работа 2 \n",
    "## Выполнил студент группы БВТ1905 Бернадский Илья Дмитриевич\n",
    "### Задание \n",
    "#### Реализовать методы поиска в соответствии с заданием. Организовать генерацию начального набора случайных данных. Для всех вариантов добавить реализацию добавления, поиска и удаления элементов. Оценить время работы каждого алгоритма поиска и сравнить его со временем работы стандартной функции поиска, используемой в выбранном языке программирования."
   ]
  },
  {
   "cell_type": "markdown",
   "metadata": {},
   "source": [
    "### Генерация массива\n",
    "#### (Создал два массива - один побольше и второй поменьше для тестов)"
   ]
  },
  {
   "cell_type": "code",
   "execution_count": 1,
   "metadata": {},
   "outputs": [],
   "source": [
    "import time\n",
    "from random import randint\n",
    "big_mass = []\n",
    "lil_mass = []\n",
    "for i in range(10000000):\n",
    "    big_mass.append(randint(-10000, 10000))\n",
    "for i in range(100000):\n",
    "    lil_mass.append(randint(-10000, 10000))\n",
    "lil_mass.append(3456)\n",
    "big_mass.sort()\n",
    "lil_mass.sort()"
   ]
  },
  {
   "cell_type": "markdown",
   "metadata": {},
   "source": [
    "### Функция для тестов"
   ]
  },
  {
   "cell_type": "code",
   "execution_count": 2,
   "metadata": {},
   "outputs": [],
   "source": [
    "def test(found_big,found_lil):\n",
    "    global sought \n",
    "    global big_mass \n",
    "    global lil_mass\n",
    "    global start_time\n",
    "    print(\"Искомый элемент тут: \", found_big)\n",
    "    print(\"Затраченное время на поиск алгоритмом \", time.time() - start_time)\n",
    "    start_time = time.time()\n",
    "    a = big_mass.index(sought)\n",
    "    print(\"Затраченное время на поиск стандартной функцией \", time.time() - start_time)\n",
    "\n",
    "    start_time = time.time()\n",
    "    print(\"Искомый элемент тут: \", found_lil)\n",
    "    print(\"Затраченное время на поиск алгоритмом \", time.time() - start_time)\n",
    "    start_time = time.time()\n",
    "    a = lil_mass.index(sought)\n",
    "    print(\"Затраченное время на поиск стандартной функцией \", time.time() - start_time)"
   ]
  },
  {
   "cell_type": "markdown",
   "metadata": {},
   "source": [
    "### Задание №1:\n",
    "\n",
    "### Бинарный поиск"
   ]
  },
  {
   "cell_type": "markdown",
   "metadata": {},
   "source": [
    "#### В упорядоченном массиве находится средний элемент. Дальше 3 варианта развития событий:\n",
    "#### 1. Если средний элемент равен искомому, поиск заканчивается\n",
    "#### 2. Если средний элемент больше искомого, то правая граница сдвигается к среднему и опять находится средний\n",
    "#### 3. Если средний элемент меньше искомого, то левая граница сдвигается к среднему и опять находится средний\n",
    "#### Повторяется пока не найдет"
   ]
  },
  {
   "cell_type": "code",
   "execution_count": 3,
   "metadata": {},
   "outputs": [],
   "source": [
    "def binary_search(mass, sought):\n",
    "    left = 0\n",
    "    right = len(mass) - 1\n",
    "    mid = (left + right) // 2\n",
    "    while mass[mid] != sought and left <= right:\n",
    "        if sought > mass[mid]:\n",
    "            left = mid + 1\n",
    "        else:\n",
    "            right = mid - 1\n",
    "        mid = (left + right) // 2\n",
    "\n",
    "    if left > right :\n",
    "        return \"Нету\"\n",
    "    else:\n",
    "        return mid\n",
    "        "
   ]
  },
  {
   "cell_type": "code",
   "execution_count": 4,
   "metadata": {
    "scrolled": true
   },
   "outputs": [
    {
     "name": "stdout",
     "output_type": "stream",
     "text": [
      "Введите искомое число 3456\n",
      "Искомый элемент тут:  6729124\n",
      "Затраченное время на поиск алгоритмом  0.0\n",
      "Затраченное время на поиск стандартной функцией  0.38735270500183105\n",
      "Искомый элемент тут:  67296\n",
      "Затраченное время на поиск алгоритмом  0.0\n",
      "Затраченное время на поиск стандартной функцией  0.0020017623901367188\n"
     ]
    }
   ],
   "source": [
    "sought = int(input(\"Введите искомое число \"))\n",
    "start_time = time.time()\n",
    "test(binary_search(big_mass, sought), binary_search(lil_mass, sought))"
   ]
  },
  {
   "cell_type": "markdown",
   "metadata": {},
   "source": [
    "#### Можно сделать вывод, что бинарный поиск ищет элемент быстрее чем стандартная функция"
   ]
  },
  {
   "cell_type": "markdown",
   "metadata": {},
   "source": [
    "### Фибоначчиев поиск\n",
    "#### Элемент ищется по индексам равным числам фибоначчи \n",
    "#### Если очередной элемент больше искомого, то массив обрезается так, что левая граница это прошлое число фибоначчи, а правая это последнее взятое. Повторять пока очередной элемент не будет равен искомому"
   ]
  },
  {
   "cell_type": "code",
   "execution_count": 9,
   "metadata": {},
   "outputs": [],
   "source": [
    "def fibonacci_search(mass, sought):\n",
    "    obrez = 0\n",
    "    past = 1\n",
    "    present = 1\n",
    "    while mass[past] != sought:\n",
    "        past = 1\n",
    "        present = 1\n",
    "        while mass[present - 1] < sought:\n",
    "            bubble = present\n",
    "            present += past\n",
    "            past = bubble\n",
    "            if present > len(mass):\n",
    "                present = len(mass)\n",
    "        mass = mass[:present]\n",
    "        mass = mass[past:]\n",
    "        obrez += past \n",
    "        present = len(mass)\n",
    "        past = 0\n",
    "    return obrez"
   ]
  },
  {
   "cell_type": "code",
   "execution_count": 10,
   "metadata": {
    "scrolled": false
   },
   "outputs": [
    {
     "name": "stdout",
     "output_type": "stream",
     "text": [
      "Введите искомое число 3456\n",
      "Искомый элемент тут:  6728858\n",
      "Затраченное время на поиск алгоритмом  0.5284817218780518\n",
      "Затраченное время на поиск стандартной функцией  0.39235687255859375\n",
      "Искомый элемент тут:  67296\n",
      "Затраченное время на поиск алгоритмом  0.0\n",
      "Затраченное время на поиск стандартной функцией  0.0020017623901367188\n"
     ]
    }
   ],
   "source": [
    "sought = int(input(\"Введите искомое число \"))\n",
    "start_time = time.time()\n",
    "big_mass_copy = big_mass.copy()\n",
    "lil_mass_copy = lil_mass.copy()\n",
    "test(fibonacci_search(big_mass_copy, sought), fibonacci_search(lil_mass_copy, sought))"
   ]
  },
  {
   "cell_type": "markdown",
   "metadata": {},
   "source": [
    "#### Фибоначчиев поиск ищет быстрее в маленьких массивах, а стандартная функция быстрее в больших"
   ]
  },
  {
   "cell_type": "code",
   "execution_count": 11,
   "metadata": {},
   "outputs": [],
   "source": [
    "def interpolation_search(mass, sought):\n",
    "    left = 0\n",
    "    right = (len(mass) - 1)\n",
    "    while left <= right and sought >= mass[left] and sought <= mass[right]:\n",
    "        index = left + int(((float(right - left) / ( mass[right] - mass[left])) * ( sought - mass[left])))\n",
    "        if mass[index] == sought:\n",
    "            return index\n",
    "        if mass[index] < sought:\n",
    "            left = index + 1\n",
    "        else:\n",
    "            right = index - 1"
   ]
  },
  {
   "cell_type": "code",
   "execution_count": 12,
   "metadata": {},
   "outputs": [
    {
     "name": "stdout",
     "output_type": "stream",
     "text": [
      "Введите искомое число 3456\n",
      "Искомый элемент тут:  6728999\n",
      "Затраченное время на поиск алгоритмом  0.27324795722961426\n",
      "Затраченное время на поиск стандартной функцией  0.37598109245300293\n",
      "Искомый элемент тут:  67300\n",
      "Затраченное время на поиск алгоритмом  0.0\n",
      "Затраченное время на поиск стандартной функцией  0.0010056495666503906\n"
     ]
    }
   ],
   "source": [
    "sought = int(input(\"Введите искомое число \"))\n",
    "start_time = time.time()\n",
    "big_mass_copy = big_mass.copy()\n",
    "lil_mass_copy = lil_mass.copy()\n",
    "test(interpolation_search(big_mass_copy, sought), interpolation_search(lil_mass_copy, sought))"
   ]
  },
  {
   "cell_type": "markdown",
   "metadata": {},
   "source": [
    "#### Интерполяционный поиск немного быстрее стандартной функции"
   ]
  },
  {
   "cell_type": "markdown",
   "metadata": {},
   "source": [
    "### Задача 3"
   ]
  },
  {
   "cell_type": "markdown",
   "metadata": {},
   "source": [
    "### Если ставить ферзей \"буквой г\" вниз, они не будут под боем друг друга"
   ]
  },
  {
   "cell_type": "markdown",
   "metadata": {},
   "source": [
    "### Создадим доску в виде матрицы"
   ]
  },
  {
   "cell_type": "code",
   "execution_count": 15,
   "metadata": {},
   "outputs": [
    {
     "name": "stdout",
     "output_type": "stream",
     "text": [
      "0 0 0 0 0 0 0 0\n",
      "0 0 0 0 0 0 0 0\n",
      "0 0 0 0 0 0 0 0\n",
      "0 0 0 0 0 0 0 0\n",
      "0 0 0 0 0 0 0 0\n",
      "0 0 0 0 0 0 0 0\n",
      "0 0 0 0 0 0 0 0\n",
      "0 0 0 0 0 0 0 0\n"
     ]
    }
   ],
   "source": [
    "import numpy as np\n",
    "def output(matrix):\n",
    "    max_len = max([len(str(e)) for r in matrix for e in r])\n",
    "    for row in matrix:\n",
    "        print(*list(map('{{:>{length}}}'.format(length=max_len).format, row)))\n",
    "matrix = np.array([[0, 0, 0, 0, 0, 0, 0, 0], [0, 0, 0, 0, 0, 0, 0, 0], [0, 0, 0, 0, 0, 0, 0, 0], [0, 0, 0, 0, 0, 0, 0, 0], [0, 0, 0, 0, 0, 0, 0, 0], [0, 0, 0, 0, 0, 0, 0, 0], [0, 0, 0, 0, 0, 0, 0, 0], [0, 0, 0, 0, 0, 0, 0, 0], ])\n",
    "output(matrix)"
   ]
  },
  {
   "cell_type": "markdown",
   "metadata": {},
   "source": [
    "### Расставим ферзей \"буквой г\" вниз"
   ]
  },
  {
   "cell_type": "code",
   "execution_count": 18,
   "metadata": {},
   "outputs": [
    {
     "name": "stdout",
     "output_type": "stream",
     "text": [
      "0 0 0 0 1 0 0 0\n",
      "1 0 0 0 0 0 0 0\n",
      "0 0 0 0 0 1 0 0\n",
      "0 1 0 0 0 0 0 0\n",
      "0 0 0 0 0 0 1 0\n",
      "0 0 1 0 0 0 0 0\n",
      "0 0 0 0 0 0 0 1\n",
      "0 0 0 1 0 0 0 0\n"
     ]
    }
   ],
   "source": [
    "ry = 1\n",
    "st = 0\n",
    "for i in range(2):\n",
    "    while ry < 8:\n",
    "        matrix[ry, st] = 1\n",
    "        ry += 2\n",
    "        st += 1\n",
    "    ry = 0\n",
    "output(matrix)"
   ]
  },
  {
   "cell_type": "code",
   "execution_count": null,
   "metadata": {},
   "outputs": [],
   "source": []
  }
 ],
 "metadata": {
  "kernelspec": {
   "display_name": "Python 3",
   "language": "python",
   "name": "python3"
  },
  "language_info": {
   "codemirror_mode": {
    "name": "ipython",
    "version": 3
   },
   "file_extension": ".py",
   "mimetype": "text/x-python",
   "name": "python",
   "nbconvert_exporter": "python",
   "pygments_lexer": "ipython3",
   "version": "3.8.5"
  }
 },
 "nbformat": 4,
 "nbformat_minor": 4
}
