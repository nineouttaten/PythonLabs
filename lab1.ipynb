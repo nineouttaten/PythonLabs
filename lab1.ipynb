{
 "cells": [
  {
   "cell_type": "markdown",
   "metadata": {},
   "source": [
    "# Лабораторная работа 1 \n",
    "## Выполнил студент группы БВТ1905 Бернадский Илья Дмитриевич\n",
    "### Задание 1\n",
    "#### Написать привет мир"
   ]
  },
  {
   "cell_type": "code",
   "execution_count": 1,
   "metadata": {},
   "outputs": [
    {
     "name": "stdout",
     "output_type": "stream",
     "text": [
      "Hello World!\n"
     ]
    }
   ],
   "source": [
    "print(\"Hello World!\")"
   ]
  },
  {
   "cell_type": "markdown",
   "metadata": {},
   "source": [
    "### Задание 2\n",
    "#### Написать генератор случайных матриц(многомерных), который принимает\n",
    "#### опциональные параметры m, n, min_limit, max_limit, где m и n указывают размер\n",
    "#### матрицы, а min_lim и max_lim - минимальное и максимальное значение для\n",
    "#### генерируемого числа . По умолчанию при отсутствии параметров принимать следующие\n",
    "#### значения:\n",
    "#### m = 50\n",
    "#### n = 50\n",
    "#### min_limit = -250\n",
    "#### max_limit = 1000 + (номер своего варианта)"
   ]
  },
  {
   "cell_type": "code",
   "execution_count": 2,
   "metadata": {
    "scrolled": true
   },
   "outputs": [
    {
     "name": "stdout",
     "output_type": "stream",
     "text": [
      " 457.0  198.0 -241.0  258.0  773.0  752.0  819.0  385.0  840.0  670.0\n",
      "  20.0  197.0 -188.0  306.0  873.0  511.0  740.0  674.0  -15.0  -99.0\n",
      " 391.0 -218.0  510.0  638.0 -192.0  158.0  493.0  565.0   91.0  620.0\n",
      " 101.0  708.0  173.0  416.0 -234.0  905.0  765.0  415.0    5.0  229.0\n",
      " 693.0  804.0  925.0  268.0 -235.0 -108.0   81.0  314.0 -128.0    5.0\n",
      " 672.0  -49.0  913.0  126.0  245.0  352.0  416.0 -163.0  597.0  953.0\n",
      " 523.0  871.0   13.0  306.0 -108.0  223.0  715.0  272.0  812.0  -46.0\n",
      " 922.0  437.0  537.0  301.0  926.0   82.0  -52.0 -104.0  831.0  310.0\n",
      "-131.0  530.0   45.0  315.0  310.0  276.0   92.0  123.0  485.0 -199.0\n",
      " 354.0  540.0  578.0  837.0  682.0  405.0  436.0  836.0  613.0  822.0\n",
      "-195.0  756.0  734.0  143.0  515.0  386.0  691.0  117.0  689.0  149.0\n",
      "-196.0  305.0 -147.0  520.0  438.0  763.0   20.0  370.0    9.0  779.0\n",
      " 204.0   61.0  439.0  725.0  -65.0  228.0  762.0  520.0  525.0  668.0\n"
     ]
    }
   ],
   "source": [
    "import numpy as np\n",
    "from random import randint\n",
    "def output(matrix):\n",
    "    max_len = max([len(str(e)) for r in matrix for e in r])\n",
    "    for row in matrix:\n",
    "        print(*list(map('{{:>{length}}}'.format(length=max_len).format, row)))\n",
    "m = 13\n",
    "n = 10\n",
    "min_limit = -250\n",
    "max_limit = 1003\n",
    "matrix = np.empty((m, n))\n",
    "for i in range(m):\n",
    "    for j in range(n):\n",
    "        matrix[i][j] = randint(min_limit, max_limit)\n",
    "output(matrix)"
   ]
  },
  {
   "cell_type": "code",
   "execution_count": 3,
   "metadata": {},
   "outputs": [],
   "source": [
    "def sort_selection(matrix_copy):\n",
    "    for k in range(m):   \n",
    "        for i in range(n):\n",
    "            min = matrix_copy[k,i]\n",
    "            min_k = i\n",
    "            for j in range(i + 1, n):\n",
    "                if matrix_copy[k,j] < min:\n",
    "                    min = matrix_copy[k,j]\n",
    "                    min_k = j\n",
    "            matrix_copy[k,min_k] = matrix_copy[k,i]\n",
    "            matrix_copy[k,i] = min\n",
    "    for k in range(n - 1, -1, -1):   \n",
    "        for i in range(m):\n",
    "            min = matrix_copy[i,k]\n",
    "            min_k = i\n",
    "            for j in range(i + 1, m):\n",
    "                if matrix_copy[j, k] < min:\n",
    "                    min = matrix_copy[j, k]\n",
    "                    min_k = j\n",
    "            matrix_copy[min_k, k] = matrix_copy[i, k]\n",
    "            matrix_copy[i, k] = min\n",
    "    output(matrix_copy)"
   ]
  },
  {
   "cell_type": "code",
   "execution_count": 4,
   "metadata": {},
   "outputs": [
    {
     "name": "stdout",
     "output_type": "stream",
     "text": [
      "-241.0 -192.0 -108.0    5.0   81.0  268.0  310.0  315.0  485.0  530.0\n",
      "-235.0 -147.0  -15.0   20.0  123.0  276.0  314.0  520.0  620.0  638.0\n",
      "-234.0 -131.0    9.0   20.0  197.0  306.0  416.0  565.0  725.0  756.0\n",
      "-218.0 -128.0   13.0   92.0  229.0  306.0  438.0  668.0  734.0  762.0\n",
      "-199.0  -99.0   45.0  149.0  272.0  370.0  510.0  672.0  740.0  779.0\n",
      "-196.0  -52.0   82.0  158.0  305.0  415.0  511.0  674.0  763.0  837.0\n",
      "-195.0  -49.0   91.0  173.0  310.0  416.0  523.0  691.0  765.0  840.0\n",
      "-188.0  -46.0  101.0  223.0  352.0  437.0  525.0  693.0  804.0  871.0\n",
      "-163.0    5.0  126.0  228.0  386.0  493.0  537.0  708.0  812.0  873.0\n",
      "-108.0   61.0  143.0  245.0  391.0  515.0  597.0  715.0  819.0  905.0\n",
      "-104.0  117.0  204.0  301.0  439.0  520.0  682.0  773.0  836.0  925.0\n",
      " -65.0  198.0  258.0  385.0  457.0  613.0  689.0  822.0  913.0  926.0\n",
      " 354.0  405.0  436.0  540.0  578.0  670.0  752.0  831.0  922.0  953.0\n"
     ]
    }
   ],
   "source": [
    "matrix_copy = np.array(matrix)\n",
    "sort_selection(matrix_copy)"
   ]
  },
  {
   "cell_type": "code",
   "execution_count": 5,
   "metadata": {},
   "outputs": [],
   "source": [
    "def sort_insert(matrix_copy):\n",
    "    for k in range(m):\n",
    "        for i in range(1,n): \n",
    "            x = matrix_copy[k,i]\n",
    "            j = i\n",
    "            while j > 0 and matrix_copy[k,j-1] > x:\n",
    "                matrix_copy[k,j] = matrix_copy[k,j-1]\n",
    "                j = j - 1\n",
    "            matrix_copy[k,j] = x\n",
    "    for k in range(n - 1, -1, -1):\n",
    "        for i in range(1,m): \n",
    "            x = matrix_copy[i,k]\n",
    "            j = i\n",
    "            while j > 0 and matrix_copy[j-1,k] > x:\n",
    "                matrix_copy[j,k] = matrix_copy[j-1,k]\n",
    "                j = j - 1\n",
    "            matrix_copy[j,k] = x\n",
    "    output(matrix_copy)"
   ]
  },
  {
   "cell_type": "code",
   "execution_count": 6,
   "metadata": {
    "scrolled": true
   },
   "outputs": [
    {
     "name": "stdout",
     "output_type": "stream",
     "text": [
      "-241.0 -192.0 -108.0    5.0   81.0  268.0  310.0  315.0  485.0  530.0\n",
      "-235.0 -147.0  -15.0   20.0  123.0  276.0  314.0  520.0  620.0  638.0\n",
      "-234.0 -131.0    9.0   20.0  197.0  306.0  416.0  565.0  725.0  756.0\n",
      "-218.0 -128.0   13.0   92.0  229.0  306.0  438.0  668.0  734.0  762.0\n",
      "-199.0  -99.0   45.0  149.0  272.0  370.0  510.0  672.0  740.0  779.0\n",
      "-196.0  -52.0   82.0  158.0  305.0  415.0  511.0  674.0  763.0  837.0\n",
      "-195.0  -49.0   91.0  173.0  310.0  416.0  523.0  691.0  765.0  840.0\n",
      "-188.0  -46.0  101.0  223.0  352.0  437.0  525.0  693.0  804.0  871.0\n",
      "-163.0    5.0  126.0  228.0  386.0  493.0  537.0  708.0  812.0  873.0\n",
      "-108.0   61.0  143.0  245.0  391.0  515.0  597.0  715.0  819.0  905.0\n",
      "-104.0  117.0  204.0  301.0  439.0  520.0  682.0  773.0  836.0  925.0\n",
      " -65.0  198.0  258.0  385.0  457.0  613.0  689.0  822.0  913.0  926.0\n",
      " 354.0  405.0  436.0  540.0  578.0  670.0  752.0  831.0  922.0  953.0\n"
     ]
    }
   ],
   "source": [
    "matrix_copy = np.array(matrix)\n",
    "sort_insert(matrix_copy)"
   ]
  },
  {
   "cell_type": "code",
   "execution_count": 7,
   "metadata": {},
   "outputs": [],
   "source": [
    "def sort_bubble(matrix_copy):\n",
    "    bub = 0\n",
    "    for k in range(m):\n",
    "        for j in range(n):\n",
    "            for i in range(n - 1):\n",
    "                if matrix_copy[k, i] > matrix_copy[k, i + 1]:\n",
    "                    bub = matrix_copy[k, i]\n",
    "                    matrix_copy[k, i] = matrix_copy[k, i + 1]\n",
    "                    matrix_copy[k, i + 1] = bub\n",
    "    for k in range(n - 1, -1, -1):\n",
    "        for j in range(m):\n",
    "            for i in range(m - 1):\n",
    "                if matrix_copy[i, k] > matrix_copy[i + 1, k]:\n",
    "                    bub = matrix_copy[i, k]\n",
    "                    matrix_copy[i, k] = matrix_copy[i + 1, k]\n",
    "                    matrix_copy[i + 1, k] = bub\n",
    "    output(matrix_copy)"
   ]
  },
  {
   "cell_type": "code",
   "execution_count": 8,
   "metadata": {},
   "outputs": [
    {
     "name": "stdout",
     "output_type": "stream",
     "text": [
      "-241.0 -192.0 -108.0    5.0   81.0  268.0  310.0  315.0  485.0  530.0\n",
      "-235.0 -147.0  -15.0   20.0  123.0  276.0  314.0  520.0  620.0  638.0\n",
      "-234.0 -131.0    9.0   20.0  197.0  306.0  416.0  565.0  725.0  756.0\n",
      "-218.0 -128.0   13.0   92.0  229.0  306.0  438.0  668.0  734.0  762.0\n",
      "-199.0  -99.0   45.0  149.0  272.0  370.0  510.0  672.0  740.0  779.0\n",
      "-196.0  -52.0   82.0  158.0  305.0  415.0  511.0  674.0  763.0  837.0\n",
      "-195.0  -49.0   91.0  173.0  310.0  416.0  523.0  691.0  765.0  840.0\n",
      "-188.0  -46.0  101.0  223.0  352.0  437.0  525.0  693.0  804.0  871.0\n",
      "-163.0    5.0  126.0  228.0  386.0  493.0  537.0  708.0  812.0  873.0\n",
      "-108.0   61.0  143.0  245.0  391.0  515.0  597.0  715.0  819.0  905.0\n",
      "-104.0  117.0  204.0  301.0  439.0  520.0  682.0  773.0  836.0  925.0\n",
      " -65.0  198.0  258.0  385.0  457.0  613.0  689.0  822.0  913.0  926.0\n",
      " 354.0  405.0  436.0  540.0  578.0  670.0  752.0  831.0  922.0  953.0\n"
     ]
    }
   ],
   "source": [
    "matrix_copy = np.array(matrix)\n",
    "sort_bubble(matrix_copy)"
   ]
  },
  {
   "cell_type": "code",
   "execution_count": null,
   "metadata": {},
   "outputs": [],
   "source": []
  }
 ],
 "metadata": {
  "kernelspec": {
   "display_name": "Python 3",
   "language": "python",
   "name": "python3"
  },
  "language_info": {
   "codemirror_mode": {
    "name": "ipython",
    "version": 3
   },
   "file_extension": ".py",
   "mimetype": "text/x-python",
   "name": "python",
   "nbconvert_exporter": "python",
   "pygments_lexer": "ipython3",
   "version": "3.8.5"
  }
 },
 "nbformat": 4,
 "nbformat_minor": 4
}
