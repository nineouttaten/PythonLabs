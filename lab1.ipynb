{
 "cells": [
  {
   "cell_type": "markdown",
   "metadata": {},
   "source": [
    "# Лабораторная работа 1 \n",
    "## Выполнил студент группы БВТ1905 Бернадский Илья Дмитриевич\n",
    "### Задание 1\n",
    "#### Написать привет мир"
   ]
  },
  {
   "cell_type": "code",
   "execution_count": 1,
   "metadata": {},
   "outputs": [
    {
     "name": "stdout",
     "output_type": "stream",
     "text": [
      "Hello World!\n"
     ]
    }
   ],
   "source": [
    "print(\"Hello World!\")"
   ]
  },
  {
   "cell_type": "markdown",
   "metadata": {},
   "source": [
    "### Задание 2\n",
    "#### Написать генератор случайных матриц(многомерных), который принимает\n",
    "#### опциональные параметры m, n, min_limit, max_limit, где m и n указывают размер\n",
    "#### матрицы, а min_lim и max_lim - минимальное и максимальное значение для\n",
    "#### генерируемого числа . По умолчанию при отсутствии параметров принимать следующие\n",
    "#### значения:\n",
    "#### m = 50\n",
    "#### n = 50\n",
    "#### min_limit = -250\n",
    "#### max_limit = 1000 + (номер своего варианта)"
   ]
  },
  {
   "cell_type": "code",
   "execution_count": 2,
   "metadata": {
    "scrolled": true
   },
   "outputs": [
    {
     "name": "stdout",
     "output_type": "stream",
     "text": [
      "-185.0  523.0 -145.0  -49.0  999.0  112.0  362.0 -178.0  450.0  -73.0\n",
      " 732.0 -129.0  980.0 -162.0   32.0  744.0    9.0   -9.0  237.0  917.0\n",
      " 659.0  181.0  645.0  648.0  790.0  829.0  586.0 -145.0  866.0  -34.0\n",
      " 372.0 -176.0  848.0  -85.0  -90.0  975.0  326.0  177.0  828.0   96.0\n",
      " 384.0   91.0  594.0  982.0  254.0   46.0  719.0 -119.0  353.0  218.0\n",
      "  54.0   50.0    5.0  553.0  998.0   87.0  -86.0  -65.0  708.0 -110.0\n",
      " 291.0  681.0   92.0  583.0  678.0  917.0  225.0  534.0  327.0 -226.0\n",
      " 675.0  -33.0  810.0   89.0  681.0  149.0  787.0  863.0 -206.0  683.0\n",
      " 997.0  831.0  888.0  300.0  994.0  693.0  790.0  677.0  377.0  581.0\n",
      " 747.0  771.0   80.0  -42.0  409.0  681.0  548.0  253.0  559.0  786.0\n",
      " 646.0 -135.0  206.0  -41.0  -33.0  943.0  456.0 -160.0  717.0 -202.0\n",
      "  87.0 -236.0 1002.0   14.0  694.0  423.0  -36.0 -182.0  588.0  843.0\n",
      " 705.0  789.0 -242.0 -199.0 -172.0  113.0  820.0  532.0  636.0  187.0\n"
     ]
    }
   ],
   "source": [
    "import numpy as np\n",
    "import time\n",
    "from random import randint\n",
    "def output(matrix):\n",
    "    max_len = max([len(str(e)) for r in matrix for e in r])\n",
    "    for row in matrix:\n",
    "        print(*list(map('{{:>{length}}}'.format(length=max_len).format, row)))\n",
    "m = 13\n",
    "n = 10\n",
    "min_limit = -250\n",
    "max_limit = 1003\n",
    "matrix = np.empty((m, n))\n",
    "for i in range(m):\n",
    "    for j in range(n):\n",
    "        matrix[i][j] = randint(min_limit, max_limit)\n",
    "output(matrix)"
   ]
  },
  {
   "cell_type": "code",
   "execution_count": 3,
   "metadata": {},
   "outputs": [],
   "source": [
    "def sort_selection(matrix_copy):\n",
    "    for k in range(m):   \n",
    "        for i in range(n):\n",
    "            min = matrix_copy[k,i]\n",
    "            min_k = i\n",
    "            for j in range(i + 1, n):\n",
    "                if matrix_copy[k,j] < min:\n",
    "                    min = matrix_copy[k,j]\n",
    "                    min_k = j\n",
    "            matrix_copy[k,min_k] = matrix_copy[k,i]\n",
    "            matrix_copy[k,i] = min\n",
    "    for k in range(n - 1, -1, -1):   \n",
    "        for i in range(m):\n",
    "            min = matrix_copy[i,k]\n",
    "            min_k = i\n",
    "            for j in range(i + 1, m):\n",
    "                if matrix_copy[j, k] < min:\n",
    "                    min = matrix_copy[j, k]\n",
    "                    min_k = j\n",
    "            matrix_copy[min_k, k] = matrix_copy[i, k]\n",
    "            matrix_copy[i, k] = min\n",
    "    output(matrix_copy)"
   ]
  },
  {
   "cell_type": "code",
   "execution_count": 4,
   "metadata": {},
   "outputs": [
    {
     "name": "stdout",
     "output_type": "stream",
     "text": [
      "-242.0 -199.0 -172.0  -73.0  -49.0   54.0   87.0  450.0  523.0  786.0\n",
      "-236.0 -182.0 -145.0  -41.0  -33.0  112.0  362.0  553.0  681.0  820.0\n",
      "-226.0 -178.0 -135.0    5.0   32.0  206.0  372.0  594.0  708.0  863.0\n",
      "-206.0 -160.0  -85.0    9.0   50.0  237.0  384.0  646.0  717.0  866.0\n",
      "-202.0 -129.0  -65.0   14.0   87.0  326.0  456.0  678.0  719.0  917.0\n",
      "-185.0  -90.0  -36.0   96.0  177.0  353.0  583.0  694.0  771.0  943.0\n",
      "-176.0  -86.0   -9.0  113.0  187.0  423.0  588.0  705.0  789.0  975.0\n",
      "-162.0  -34.0   89.0  149.0  254.0  532.0  636.0  744.0  810.0  980.0\n",
      "-145.0  -33.0   91.0  218.0  327.0  534.0  659.0  747.0  829.0  982.0\n",
      "-119.0   46.0  181.0  291.0  548.0  559.0  681.0  787.0  843.0  997.0\n",
      "-110.0   80.0  225.0  409.0  645.0  648.0  683.0  790.0  848.0  998.0\n",
      " -42.0   92.0  253.0  586.0  675.0  681.0  732.0  828.0  917.0  999.0\n",
      " 300.0  377.0  581.0  677.0  693.0  790.0  831.0  888.0  994.0 1002.0\n",
      "0.09983944892883301\n"
     ]
    }
   ],
   "source": [
    "start_time = time.time()\n",
    "matrix_copy = np.array(matrix)\n",
    "sort_selection(matrix_copy)\n",
    "print(time.time() - start_time)"
   ]
  },
  {
   "cell_type": "code",
   "execution_count": 5,
   "metadata": {},
   "outputs": [],
   "source": [
    "def sort_insert(matrix_copy):\n",
    "    for k in range(m):\n",
    "        for i in range(1,n): \n",
    "            x = matrix_copy[k,i]\n",
    "            j = i\n",
    "            while j > 0 and matrix_copy[k,j-1] > x:\n",
    "                matrix_copy[k,j] = matrix_copy[k,j-1]\n",
    "                j = j - 1\n",
    "            matrix_copy[k,j] = x\n",
    "    for k in range(n - 1, -1, -1):\n",
    "        for i in range(1,m): \n",
    "            x = matrix_copy[i,k]\n",
    "            j = i\n",
    "            while j > 0 and matrix_copy[j-1,k] > x:\n",
    "                matrix_copy[j,k] = matrix_copy[j-1,k]\n",
    "                j = j - 1\n",
    "            matrix_copy[j,k] = x\n",
    "    output(matrix_copy)"
   ]
  },
  {
   "cell_type": "code",
   "execution_count": 6,
   "metadata": {
    "scrolled": true
   },
   "outputs": [
    {
     "name": "stdout",
     "output_type": "stream",
     "text": [
      "-242.0 -199.0 -172.0  -73.0  -49.0   54.0   87.0  450.0  523.0  786.0\n",
      "-236.0 -182.0 -145.0  -41.0  -33.0  112.0  362.0  553.0  681.0  820.0\n",
      "-226.0 -178.0 -135.0    5.0   32.0  206.0  372.0  594.0  708.0  863.0\n",
      "-206.0 -160.0  -85.0    9.0   50.0  237.0  384.0  646.0  717.0  866.0\n",
      "-202.0 -129.0  -65.0   14.0   87.0  326.0  456.0  678.0  719.0  917.0\n",
      "-185.0  -90.0  -36.0   96.0  177.0  353.0  583.0  694.0  771.0  943.0\n",
      "-176.0  -86.0   -9.0  113.0  187.0  423.0  588.0  705.0  789.0  975.0\n",
      "-162.0  -34.0   89.0  149.0  254.0  532.0  636.0  744.0  810.0  980.0\n",
      "-145.0  -33.0   91.0  218.0  327.0  534.0  659.0  747.0  829.0  982.0\n",
      "-119.0   46.0  181.0  291.0  548.0  559.0  681.0  787.0  843.0  997.0\n",
      "-110.0   80.0  225.0  409.0  645.0  648.0  683.0  790.0  848.0  998.0\n",
      " -42.0   92.0  253.0  586.0  675.0  681.0  732.0  828.0  917.0  999.0\n",
      " 300.0  377.0  581.0  677.0  693.0  790.0  831.0  888.0  994.0 1002.0\n",
      "0.039983272552490234\n"
     ]
    }
   ],
   "source": [
    "start_time = time.time()\n",
    "matrix_copy = np.array(matrix)\n",
    "sort_insert(matrix_copy)\n",
    "print(time.time() - start_time)"
   ]
  },
  {
   "cell_type": "code",
   "execution_count": 7,
   "metadata": {},
   "outputs": [],
   "source": [
    "def sort_bubble(matrix_copy):\n",
    "    bub = 0\n",
    "    for k in range(m):\n",
    "        for j in range(n):\n",
    "            for i in range(n - 1):\n",
    "                if matrix_copy[k, i] > matrix_copy[k, i + 1]:\n",
    "                    bub = matrix_copy[k, i]\n",
    "                    matrix_copy[k, i] = matrix_copy[k, i + 1]\n",
    "                    matrix_copy[k, i + 1] = bub\n",
    "    for k in range(n - 1, -1, -1):\n",
    "        for j in range(m):\n",
    "            for i in range(m - 1):\n",
    "                if matrix_copy[i, k] > matrix_copy[i + 1, k]:\n",
    "                    bub = matrix_copy[i, k]\n",
    "                    matrix_copy[i, k] = matrix_copy[i + 1, k]\n",
    "                    matrix_copy[i + 1, k] = bub\n",
    "    output(matrix_copy)"
   ]
  },
  {
   "cell_type": "code",
   "execution_count": 8,
   "metadata": {
    "scrolled": true
   },
   "outputs": [
    {
     "name": "stdout",
     "output_type": "stream",
     "text": [
      "-242.0 -199.0 -172.0  -73.0  -49.0   54.0   87.0  450.0  523.0  786.0\n",
      "-236.0 -182.0 -145.0  -41.0  -33.0  112.0  362.0  553.0  681.0  820.0\n",
      "-226.0 -178.0 -135.0    5.0   32.0  206.0  372.0  594.0  708.0  863.0\n",
      "-206.0 -160.0  -85.0    9.0   50.0  237.0  384.0  646.0  717.0  866.0\n",
      "-202.0 -129.0  -65.0   14.0   87.0  326.0  456.0  678.0  719.0  917.0\n",
      "-185.0  -90.0  -36.0   96.0  177.0  353.0  583.0  694.0  771.0  943.0\n",
      "-176.0  -86.0   -9.0  113.0  187.0  423.0  588.0  705.0  789.0  975.0\n",
      "-162.0  -34.0   89.0  149.0  254.0  532.0  636.0  744.0  810.0  980.0\n",
      "-145.0  -33.0   91.0  218.0  327.0  534.0  659.0  747.0  829.0  982.0\n",
      "-119.0   46.0  181.0  291.0  548.0  559.0  681.0  787.0  843.0  997.0\n",
      "-110.0   80.0  225.0  409.0  645.0  648.0  683.0  790.0  848.0  998.0\n",
      " -42.0   92.0  253.0  586.0  675.0  681.0  732.0  828.0  917.0  999.0\n",
      " 300.0  377.0  581.0  677.0  693.0  790.0  831.0  888.0  994.0 1002.0\n",
      "0.0559992790222168\n"
     ]
    }
   ],
   "source": [
    "start_time = time.time()\n",
    "matrix_copy = np.array(matrix)\n",
    "sort_bubble(matrix_copy)\n",
    "print(time.time() - start_time)"
   ]
  },
  {
   "cell_type": "code",
   "execution_count": 9,
   "metadata": {},
   "outputs": [],
   "source": [
    "def heap(matrix,n,i,k):\n",
    "    largest = i\n",
    "    l = 2 * i + 1\n",
    "    r = 2 * i + 2\n",
    "    if l < n and matrix[k, i] < matrix[k, l]:\n",
    "        largest = l\n",
    "    if r < n and matrix[k, largest] < matrix[k, r]:\n",
    "        largest = r\n",
    "    if largest != i:\n",
    "        matrix[k,i],matrix[k,largest] = matrix[k,largest],matrix[k,i]\n",
    "        heap(matrix, n, largest,k)\n",
    "def sort_pyramid(matrix,k):\n",
    "    for i in range(n, -1, -1):\n",
    "        heap(matrix,n,i,k)\n",
    "    for i in range(n-1,0,-1):\n",
    "        matrix[k, i], matrix[k, 0] = matrix[k, 0], matrix[k, i]\n",
    "        heap(matrix,i,0,k)\n",
    "def heap_2(matrix,n,i,k):\n",
    "    largest = i\n",
    "    l = 2 * i + 1\n",
    "    r = 2 * i + 2\n",
    "    if l < n and matrix[i,k] < matrix[l,k]:\n",
    "        largest = l\n",
    "    if r < n and matrix[largest,k] < matrix[r,k]:\n",
    "        largest = r\n",
    "    if largest != i:\n",
    "        matrix[i,k],matrix[largest,k] = matrix[largest,k],matrix[i,k]\n",
    "        heap_2(matrix, n, largest,k)\n",
    "def sort_pyramid_2(matrix,k):\n",
    "    n = len(matrix)\n",
    "    for i in range(n-1,-1,-1):\n",
    "        heap_2(matrix,n,i,k)\n",
    "    for i in range(n-1,-1,-1):\n",
    "        matrix[i,k], matrix[0,k] = matrix[0,k], matrix[i,k]\n",
    "        heap_2(matrix,i,0,k)\n",
    "def sort_pyramidal(matrix):\n",
    "    for k in range(m):\n",
    "        sort_pyramid(matrix,k)\n",
    "    for k in range(n-1,-1,-1):\n",
    "        sort_pyramid_2(matrix,k)\n",
    "    output(matrix)"
   ]
  },
  {
   "cell_type": "code",
   "execution_count": 10,
   "metadata": {},
   "outputs": [
    {
     "name": "stdout",
     "output_type": "stream",
     "text": [
      "-242.0 -199.0 -172.0  -73.0  -49.0   54.0   87.0  450.0  523.0  786.0\n",
      "-236.0 -182.0 -145.0  -41.0  -33.0  112.0  362.0  553.0  681.0  820.0\n",
      "-226.0 -178.0 -135.0    5.0   32.0  206.0  372.0  594.0  708.0  863.0\n",
      "-206.0 -160.0  -85.0    9.0   50.0  237.0  384.0  646.0  717.0  866.0\n",
      "-202.0 -129.0  -65.0   14.0   87.0  326.0  456.0  678.0  719.0  917.0\n",
      "-185.0  -90.0  -36.0   96.0  177.0  353.0  583.0  694.0  771.0  943.0\n",
      "-176.0  -86.0   -9.0  113.0  187.0  423.0  588.0  705.0  789.0  975.0\n",
      "-162.0  -34.0   89.0  149.0  254.0  532.0  636.0  744.0  810.0  980.0\n",
      "-145.0  -33.0   91.0  218.0  327.0  534.0  659.0  747.0  829.0  982.0\n",
      "-119.0   46.0  181.0  291.0  548.0  559.0  681.0  787.0  843.0  997.0\n",
      "-110.0   80.0  225.0  409.0  645.0  648.0  683.0  790.0  848.0  998.0\n",
      " -42.0   92.0  253.0  586.0  675.0  681.0  732.0  828.0  917.0  999.0\n",
      " 300.0  377.0  581.0  677.0  693.0  790.0  831.0  888.0  994.0 1002.0\n",
      "0.08802294731140137\n"
     ]
    }
   ],
   "source": [
    "start_time = time.time()\n",
    "matrix_copy = np.array(matrix)\n",
    "sort_pyramidal(matrix_copy)\n",
    "print(time.time() - start_time)"
   ]
  },
  {
   "cell_type": "code",
   "execution_count": 11,
   "metadata": {},
   "outputs": [],
   "source": [
    "import random\n",
    "def quicksort(nums):\n",
    "    if len(nums) <= 1:\n",
    "        return nums\n",
    "    else:\n",
    "        q = random.choice(nums)\n",
    "        s_nums = []\n",
    "        m_nums = []\n",
    "        e_nums = []\n",
    "        for n in nums:\n",
    "            if n < q:\n",
    "                s_nums.append(n)\n",
    "            elif n > q:\n",
    "                  m_nums.append(n)\n",
    "            else:\n",
    "                e_nums.append(n)\n",
    "        return quicksort(s_nums) + e_nums + quicksort(m_nums)\n",
    "def sort_quick(matrix):\n",
    "    a = []\n",
    "    for k in range(m):\n",
    "        for i in range(n):   \n",
    "            a.append(matrix[k,i])\n",
    "        a = quicksort(a)\n",
    "        for i in range(n):\n",
    "            matrix[k,i] = a[i]\n",
    "        a = []\n",
    "    for k in range(n - 1, -1, -1):\n",
    "        for i in range(m):   \n",
    "            a.append(matrix[i,k])\n",
    "        a = quicksort(a)\n",
    "        for i in range(m):\n",
    "            matrix[i,k] = a[i]\n",
    "        a = []\n",
    "    output(matrix)"
   ]
  },
  {
   "cell_type": "code",
   "execution_count": 12,
   "metadata": {},
   "outputs": [
    {
     "name": "stdout",
     "output_type": "stream",
     "text": [
      "-242.0 -199.0 -172.0  -73.0  -49.0   54.0   87.0  450.0  523.0  786.0\n",
      "-236.0 -182.0 -145.0  -41.0  -33.0  112.0  362.0  553.0  681.0  820.0\n",
      "-226.0 -178.0 -135.0    5.0   32.0  206.0  372.0  594.0  708.0  863.0\n",
      "-206.0 -160.0  -85.0    9.0   50.0  237.0  384.0  646.0  717.0  866.0\n",
      "-202.0 -129.0  -65.0   14.0   87.0  326.0  456.0  678.0  719.0  917.0\n",
      "-185.0  -90.0  -36.0   96.0  177.0  353.0  583.0  694.0  771.0  943.0\n",
      "-176.0  -86.0   -9.0  113.0  187.0  423.0  588.0  705.0  789.0  975.0\n",
      "-162.0  -34.0   89.0  149.0  254.0  532.0  636.0  744.0  810.0  980.0\n",
      "-145.0  -33.0   91.0  218.0  327.0  534.0  659.0  747.0  829.0  982.0\n",
      "-119.0   46.0  181.0  291.0  548.0  559.0  681.0  787.0  843.0  997.0\n",
      "-110.0   80.0  225.0  409.0  645.0  648.0  683.0  790.0  848.0  998.0\n",
      " -42.0   92.0  253.0  586.0  675.0  681.0  732.0  828.0  917.0  999.0\n",
      " 300.0  377.0  581.0  677.0  693.0  790.0  831.0  888.0  994.0 1002.0\n",
      "0.031995296478271484\n"
     ]
    }
   ],
   "source": [
    "start_time = time.time()\n",
    "matrix_copy = np.array(matrix)\n",
    "sort_quick(matrix_copy)\n",
    "print(time.time() - start_time)"
   ]
  }
 ],
 "metadata": {
  "kernelspec": {
   "display_name": "Python 3",
   "language": "python",
   "name": "python3"
  },
  "language_info": {
   "codemirror_mode": {
    "name": "ipython",
    "version": 3
   },
   "file_extension": ".py",
   "mimetype": "text/x-python",
   "name": "python",
   "nbconvert_exporter": "python",
   "pygments_lexer": "ipython3",
   "version": "3.9.0"
  }
 },
 "nbformat": 4,
 "nbformat_minor": 4
}
